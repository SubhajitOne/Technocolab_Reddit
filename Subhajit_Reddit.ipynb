{
  "nbformat": 4,
  "nbformat_minor": 0,
  "metadata": {
    "colab": {
      "name": "Subhajit Reddit.ipynb",
      "provenance": [],
      "collapsed_sections": []
    },
    "kernelspec": {
      "display_name": "Python 3",
      "name": "python3"
    }
  },
  "cells": [
    {
      "cell_type": "code",
      "metadata": {
        "id": "lHTGfQoG1djz"
      },
      "source": [
        "import nltk\r\n",
        "import numpy as np\r\n",
        "import pandas as pd\r\n",
        "import tensorflow as ts\r\n",
        "import matplotlib.pyplot as plt"
      ],
      "execution_count": 1,
      "outputs": []
    },
    {
      "cell_type": "code",
      "metadata": {
        "colab": {
          "base_uri": "https://localhost:8080/"
        },
        "id": "ldzaSls3UqO_",
        "outputId": "1cb4e93d-7e48-497d-e7e3-3f26c9e33c1b"
      },
      "source": [
        "from google.colab import drive\n",
        "drive.mount('/content/drive')"
      ],
      "execution_count": 2,
      "outputs": [
        {
          "output_type": "stream",
          "text": [
            "Drive already mounted at /content/drive; to attempt to forcibly remount, call drive.mount(\"/content/drive\", force_remount=True).\n"
          ],
          "name": "stdout"
        }
      ]
    },
    {
      "cell_type": "code",
      "metadata": {
        "id": "n9topmPeU024"
      },
      "source": [
        "df_pos = pd.read_csv('/content/drive/MyDrive/Technocolab/archive/comments_positive.csv')\r\n",
        "df_neg = pd.read_csv('/content/drive/MyDrive/Technocolab/archive/comments_negative.csv')"
      ],
      "execution_count": 3,
      "outputs": []
    },
    {
      "cell_type": "code",
      "metadata": {
        "colab": {
          "base_uri": "https://localhost:8080/"
        },
        "id": "2fKhiM2ZYk64",
        "outputId": "8eb70617-a35d-4cc4-d5ed-efad9e63fb6f"
      },
      "source": [
        "[df_pos.shape,df_neg.shape]"
      ],
      "execution_count": 4,
      "outputs": [
        {
          "output_type": "execute_result",
          "data": {
            "text/plain": [
              "[(2000000, 15), (2000000, 15)]"
            ]
          },
          "metadata": {
            "tags": []
          },
          "execution_count": 4
        }
      ]
    },
    {
      "cell_type": "code",
      "metadata": {
        "id": "K1eIBFsKYwdL"
      },
      "source": [
        "df_pos.dropna(inplace=True)\r\n",
        "df_neg.dropna(inplace = True)"
      ],
      "execution_count": 5,
      "outputs": []
    },
    {
      "cell_type": "code",
      "metadata": {
        "colab": {
          "base_uri": "https://localhost:8080/",
          "height": 530
        },
        "id": "TZoXhZPUZFPN",
        "outputId": "1e2c57df-1580-4cf9-ebbb-1306824d0b21"
      },
      "source": [
        "df_pos.head()"
      ],
      "execution_count": 6,
      "outputs": [
        {
          "output_type": "execute_result",
          "data": {
            "text/html": [
              "<div>\n",
              "<style scoped>\n",
              "    .dataframe tbody tr th:only-of-type {\n",
              "        vertical-align: middle;\n",
              "    }\n",
              "\n",
              "    .dataframe tbody tr th {\n",
              "        vertical-align: top;\n",
              "    }\n",
              "\n",
              "    .dataframe thead th {\n",
              "        text-align: right;\n",
              "    }\n",
              "</style>\n",
              "<table border=\"1\" class=\"dataframe\">\n",
              "  <thead>\n",
              "    <tr style=\"text-align: right;\">\n",
              "      <th></th>\n",
              "      <th>id</th>\n",
              "      <th>parent_id</th>\n",
              "      <th>subreddit_id</th>\n",
              "      <th>link_id</th>\n",
              "      <th>text</th>\n",
              "      <th>score</th>\n",
              "      <th>ups</th>\n",
              "      <th>author</th>\n",
              "      <th>controversiality</th>\n",
              "      <th>parent_link_id</th>\n",
              "      <th>parent_text</th>\n",
              "      <th>parent_score</th>\n",
              "      <th>parent_ups</th>\n",
              "      <th>parent_author</th>\n",
              "      <th>parent_controversiality</th>\n",
              "    </tr>\n",
              "  </thead>\n",
              "  <tbody>\n",
              "    <tr>\n",
              "      <th>0</th>\n",
              "      <td>c092j8m</td>\n",
              "      <td>t1_c092gss</td>\n",
              "      <td>t5_2qh2p</td>\n",
              "      <td>t3_8eyy3</td>\n",
              "      <td>This isn't Twitter: try to comment on the arti...</td>\n",
              "      <td>9582</td>\n",
              "      <td>9582</td>\n",
              "      <td>nraustinii</td>\n",
              "      <td>0</td>\n",
              "      <td>t3_8eyy3</td>\n",
              "      <td>Fucking faggot.</td>\n",
              "      <td>-7526</td>\n",
              "      <td>-7526</td>\n",
              "      <td>Glorificus</td>\n",
              "      <td>0</td>\n",
              "    </tr>\n",
              "    <tr>\n",
              "      <th>1</th>\n",
              "      <td>c4imcva</td>\n",
              "      <td>t1_c4im948</td>\n",
              "      <td>t5_2qh1i</td>\n",
              "      <td>t3_t0ynr</td>\n",
              "      <td>Well, it is exactly what it sounds like. It's ...</td>\n",
              "      <td>9531</td>\n",
              "      <td>9531</td>\n",
              "      <td>Lynfect</td>\n",
              "      <td>0</td>\n",
              "      <td>t3_t0ynr</td>\n",
              "      <td>Elaborate on this cum box, please.</td>\n",
              "      <td>3841</td>\n",
              "      <td>3841</td>\n",
              "      <td>eeeeevil</td>\n",
              "      <td>0</td>\n",
              "    </tr>\n",
              "    <tr>\n",
              "      <th>2</th>\n",
              "      <td>c0s4nfi</td>\n",
              "      <td>t1_c0s4lje</td>\n",
              "      <td>t5_2qh1i</td>\n",
              "      <td>t3_cf1n2</td>\n",
              "      <td>In soviet Russia, bomb disarms you!</td>\n",
              "      <td>8545</td>\n",
              "      <td>8545</td>\n",
              "      <td>CapnScumbone</td>\n",
              "      <td>0</td>\n",
              "      <td>t3_cf1n2</td>\n",
              "      <td>I don't live in Russia anymore, and I will not...</td>\n",
              "      <td>621</td>\n",
              "      <td>621</td>\n",
              "      <td>shady8x</td>\n",
              "      <td>0</td>\n",
              "    </tr>\n",
              "    <tr>\n",
              "      <th>3</th>\n",
              "      <td>c4ini33</td>\n",
              "      <td>t1_c4incln</td>\n",
              "      <td>t5_2qh1i</td>\n",
              "      <td>t3_t0ynr</td>\n",
              "      <td>\"runin for senitur! #YOLO!\"</td>\n",
              "      <td>7430</td>\n",
              "      <td>7430</td>\n",
              "      <td>[deleted]</td>\n",
              "      <td>0</td>\n",
              "      <td>t3_t0ynr</td>\n",
              "      <td>This just made me realize that future presiden...</td>\n",
              "      <td>4651</td>\n",
              "      <td>4651</td>\n",
              "      <td>drspg99</td>\n",
              "      <td>0</td>\n",
              "    </tr>\n",
              "    <tr>\n",
              "      <th>4</th>\n",
              "      <td>c4imgel</td>\n",
              "      <td>t1_c4ima2e</td>\n",
              "      <td>t5_2qh1i</td>\n",
              "      <td>t3_t0ynr</td>\n",
              "      <td>You step motherfucker.</td>\n",
              "      <td>7173</td>\n",
              "      <td>7173</td>\n",
              "      <td>jbg89</td>\n",
              "      <td>0</td>\n",
              "      <td>t3_t0ynr</td>\n",
              "      <td>I have sex with my step mom when my dad isn't ...</td>\n",
              "      <td>4251</td>\n",
              "      <td>4251</td>\n",
              "      <td>audir8</td>\n",
              "      <td>0</td>\n",
              "    </tr>\n",
              "  </tbody>\n",
              "</table>\n",
              "</div>"
            ],
            "text/plain": [
              "        id   parent_id  ... parent_author parent_controversiality\n",
              "0  c092j8m  t1_c092gss  ...    Glorificus                       0\n",
              "1  c4imcva  t1_c4im948  ...      eeeeevil                       0\n",
              "2  c0s4nfi  t1_c0s4lje  ...       shady8x                       0\n",
              "3  c4ini33  t1_c4incln  ...       drspg99                       0\n",
              "4  c4imgel  t1_c4ima2e  ...        audir8                       0\n",
              "\n",
              "[5 rows x 15 columns]"
            ]
          },
          "metadata": {
            "tags": []
          },
          "execution_count": 6
        }
      ]
    },
    {
      "cell_type": "code",
      "metadata": {
        "id": "84bO_9Wb41SY"
      },
      "source": [
        "df_pos = df_pos.sample(frac = 0.05, random_state=101)\r\n",
        "df_neg = df_neg.sample(frac = 0.05, random_state=101)"
      ],
      "execution_count": 7,
      "outputs": []
    },
    {
      "cell_type": "markdown",
      "metadata": {
        "id": "iHfus4NIchKb"
      },
      "source": [
        "## Cleaning The Dataset"
      ]
    },
    {
      "cell_type": "code",
      "metadata": {
        "colab": {
          "base_uri": "https://localhost:8080/"
        },
        "id": "YaW1R1qgcZYX",
        "outputId": "1e20b3f6-3dc6-4c3b-82f2-f88f5c5ba6d6"
      },
      "source": [
        "import nltk\r\n",
        "nltk.download('stopwords')"
      ],
      "execution_count": 8,
      "outputs": [
        {
          "output_type": "stream",
          "text": [
            "[nltk_data] Downloading package stopwords to /root/nltk_data...\n",
            "[nltk_data]   Package stopwords is already up-to-date!\n"
          ],
          "name": "stdout"
        },
        {
          "output_type": "execute_result",
          "data": {
            "text/plain": [
              "True"
            ]
          },
          "metadata": {
            "tags": []
          },
          "execution_count": 8
        }
      ]
    },
    {
      "cell_type": "code",
      "metadata": {
        "id": "PN7thYUWcuQ7"
      },
      "source": [
        "def clean(text, stemming=False, stop_words=True):\r\n",
        "    import re\r\n",
        "    from string import punctuation\r\n",
        "    from nltk.stem import SnowballStemmer\r\n",
        "    from nltk.corpus import stopwords\r\n",
        "    from nltk import word_tokenize\r\n",
        "    \r\n",
        "    \r\n",
        "    # Empty comment\r\n",
        "    if type(text) != str or text=='':\r\n",
        "        return ''\r\n",
        "    \r\n",
        "    # Commence the cleaning!\r\n",
        "    urls = r'http(s)*:\\/\\/(\\w|\\.)+(\\/\\w+)*'\r\n",
        "    text = re.sub(urls, '', text, flags=re.IGNORECASE)\r\n",
        "    text = re.sub(\"\\'re\", \" are\", text)\r\n",
        "    text = re.sub(\"\\'ve\", \" have\", text)\r\n",
        "    text = re.sub(\"\\'d\", \" would\", text)\r\n",
        "    text = re.sub(\"cant\", \"can not\", text)\r\n",
        "    text = re.sub(\"can\\'t\", \"can not\", text)\r\n",
        "    text = re.sub(\"isn\\'t\", \"is not\", text)\r\n",
        "    text = re.sub(\"isnt\", \"is not\", text)\r\n",
        "    text = re.sub(\"whats\", \"what is\", text)\r\n",
        "    text = re.sub(\"what\\'s\", \"what is\", text)\r\n",
        "    text = re.sub(\"shouldn't\", \"should not\", text, flags=re.IGNORECASE)\r\n",
        "    text = re.sub(\"I'm\", \"I am\", text)\r\n",
        "    text = re.sub(\":\", \" \", text)\r\n",
        "    # The comments contain \\n for line breaks, we need to remove those too\r\n",
        "    text = re.sub(\"\\\\n\", \" \", text)\r\n",
        "    \r\n",
        "    # Special characters\r\n",
        "    text = re.sub('\\&', \" and \", text)\r\n",
        "    text = re.sub('\\$', \" dollar \", text)\r\n",
        "    text = re.sub('\\%', \" percent \", text)\r\n",
        "    \r\n",
        "    # Remove punctuation\r\n",
        "    text = ''.join([word for word in text if word not in punctuation]).lower()\r\n",
        "    \r\n",
        "    # If we want to do stemming...\r\n",
        "    if stemming:\r\n",
        "        sno = SnowballStemmer('english')\r\n",
        "        text = ''.join([sno.stem[word] for word in text])\r\n",
        "    \r\n",
        "    # If we want to remove stop words...\r\n",
        "    stops = stopwords.words('english')\r\n",
        "    if stop_words:\r\n",
        "        text = text.split()\r\n",
        "        text = [word for word in text if word not in stops]\r\n",
        "        text = ' '.join(text)\r\n",
        "    \r\n",
        "    return text"
      ],
      "execution_count": 9,
      "outputs": []
    },
    {
      "cell_type": "code",
      "metadata": {
        "id": "IufccC5Ae54M"
      },
      "source": [
        "df_pos['text'] = df_pos['text'].apply(clean).astype(str)\r\n",
        "df_pos['parent_text'] = df_pos['parent_text'].apply(clean).astype(str)\r\n",
        "\r\n",
        "df_neg['text'] = df_neg['text'].apply(clean).astype(str)\r\n",
        "df_neg['parent_text'] = df_neg['parent_text'].apply(clean).astype(str)"
      ],
      "execution_count": 10,
      "outputs": []
    },
    {
      "cell_type": "code",
      "metadata": {
        "id": "VS9TbPFtfFkq"
      },
      "source": [
        "#Concatinating the data\r\n",
        "df = pd.concat([df_pos, df_neg])\r\n",
        "df = df.sample(frac=1).reset_index(drop=True)\r\n",
        "df.dropna(axis=0, inplace=True)"
      ],
      "execution_count": 11,
      "outputs": []
    },
    {
      "cell_type": "code",
      "metadata": {
        "id": "-ePpiele7obn"
      },
      "source": [
        "#combining the text and parent_text\r\n",
        "df['combined'] = df[['text','parent_text']].apply(lambda x: ''.join(x),axis = 1)"
      ],
      "execution_count": 12,
      "outputs": []
    },
    {
      "cell_type": "code",
      "metadata": {
        "colab": {
          "base_uri": "https://localhost:8080/"
        },
        "id": "kAGw45nI7qVC",
        "outputId": "2bda21bb-8687-45e5-b733-00f5c58cbcaa"
      },
      "source": [
        "df['combined'].shape"
      ],
      "execution_count": 13,
      "outputs": [
        {
          "output_type": "execute_result",
          "data": {
            "text/plain": [
              "(199997,)"
            ]
          },
          "metadata": {
            "tags": []
          },
          "execution_count": 13
        }
      ]
    },
    {
      "cell_type": "code",
      "metadata": {
        "id": "6GfCQxbr5qEJ"
      },
      "source": [
        "df_1 = df.sample(frac=0.05,random_state=101)"
      ],
      "execution_count": 16,
      "outputs": []
    },
    {
      "cell_type": "code",
      "metadata": {
        "colab": {
          "base_uri": "https://localhost:8080/"
        },
        "id": "FFU_Hqic5093",
        "outputId": "58f68560-1508-49d0-e612-4e9169469595"
      },
      "source": [
        "df_1['combined'].shape"
      ],
      "execution_count": 17,
      "outputs": [
        {
          "output_type": "execute_result",
          "data": {
            "text/plain": [
              "(10000,)"
            ]
          },
          "metadata": {
            "tags": []
          },
          "execution_count": 17
        }
      ]
    },
    {
      "cell_type": "markdown",
      "metadata": {
        "id": "8OMWazJXGfu0"
      },
      "source": [
        "## Splitting the Data"
      ]
    },
    {
      "cell_type": "code",
      "metadata": {
        "id": "hPZhYTqQGeR_"
      },
      "source": [
        "from sklearn.model_selection import train_test_split"
      ],
      "execution_count": 18,
      "outputs": []
    },
    {
      "cell_type": "code",
      "metadata": {
        "id": "uJonnwdJG7ec"
      },
      "source": [
        "X_train, X_test, y_train, y_test = train_test_split(\r\n",
        "...     df_1['combined'], df_1['score'], test_size=0.33, random_state=101)"
      ],
      "execution_count": 19,
      "outputs": []
    },
    {
      "cell_type": "code",
      "metadata": {
        "id": "JS8Zc_4F9xj8"
      },
      "source": [
        "from sklearn.feature_extraction.text import TfidfVectorizer"
      ],
      "execution_count": 20,
      "outputs": []
    },
    {
      "cell_type": "code",
      "metadata": {
        "id": "87Lwy3F4F47P"
      },
      "source": [
        "tf = TfidfVectorizer()"
      ],
      "execution_count": 21,
      "outputs": []
    },
    {
      "cell_type": "code",
      "metadata": {
        "id": "CdMMkb_2GTcc"
      },
      "source": [
        "X_train = tf.fit_transform(X_train)\r\n",
        "X_test = tf.transform(X_test)"
      ],
      "execution_count": 22,
      "outputs": []
    },
    {
      "cell_type": "markdown",
      "metadata": {
        "id": "wO0MJGSNH7eW"
      },
      "source": [
        "### Model"
      ]
    },
    {
      "cell_type": "code",
      "metadata": {
        "id": "lMxNdM1iHfaH"
      },
      "source": [
        "from sklearn.linear_model import LinearRegression\r\n",
        "from sklearn.neighbors import KNeighborsRegressor\r\n",
        "from sklearn.ensemble import RandomForestRegressor"
      ],
      "execution_count": 27,
      "outputs": []
    },
    {
      "cell_type": "code",
      "metadata": {
        "id": "IxC-7I9dI_ko"
      },
      "source": [
        "ln = LinearRegression()\r\n",
        "kn = KNeighborsRegressor(n_neighbors=5)\r\n",
        "rf = RandomForestRegressor()"
      ],
      "execution_count": 29,
      "outputs": []
    },
    {
      "cell_type": "code",
      "metadata": {
        "colab": {
          "base_uri": "https://localhost:8080/"
        },
        "id": "_H6kJM5_JSAH",
        "outputId": "67675e04-41f4-40c6-a0b5-358908536830"
      },
      "source": [
        "ln.fit(X_train,y_train)"
      ],
      "execution_count": 30,
      "outputs": [
        {
          "output_type": "execute_result",
          "data": {
            "text/plain": [
              "LinearRegression(copy_X=True, fit_intercept=True, n_jobs=None, normalize=False)"
            ]
          },
          "metadata": {
            "tags": []
          },
          "execution_count": 30
        }
      ]
    },
    {
      "cell_type": "code",
      "metadata": {
        "colab": {
          "base_uri": "https://localhost:8080/"
        },
        "id": "AddoWIxKJtB_",
        "outputId": "4a3f7bbd-126e-4797-8430-9c39bc28246e"
      },
      "source": [
        "kn.fit(X_train,y_train)"
      ],
      "execution_count": 31,
      "outputs": [
        {
          "output_type": "execute_result",
          "data": {
            "text/plain": [
              "KNeighborsRegressor(algorithm='auto', leaf_size=30, metric='minkowski',\n",
              "                    metric_params=None, n_jobs=None, n_neighbors=5, p=2,\n",
              "                    weights='uniform')"
            ]
          },
          "metadata": {
            "tags": []
          },
          "execution_count": 31
        }
      ]
    },
    {
      "cell_type": "code",
      "metadata": {
        "colab": {
          "base_uri": "https://localhost:8080/"
        },
        "id": "G0RwrmwfJyWb",
        "outputId": "1747aea9-5474-4fc4-ed2c-4cc74afaf3a5"
      },
      "source": [
        "rf.fit(X_train,y_train)"
      ],
      "execution_count": 32,
      "outputs": [
        {
          "output_type": "execute_result",
          "data": {
            "text/plain": [
              "RandomForestRegressor(bootstrap=True, ccp_alpha=0.0, criterion='mse',\n",
              "                      max_depth=None, max_features='auto', max_leaf_nodes=None,\n",
              "                      max_samples=None, min_impurity_decrease=0.0,\n",
              "                      min_impurity_split=None, min_samples_leaf=1,\n",
              "                      min_samples_split=2, min_weight_fraction_leaf=0.0,\n",
              "                      n_estimators=100, n_jobs=None, oob_score=False,\n",
              "                      random_state=None, verbose=0, warm_start=False)"
            ]
          },
          "metadata": {
            "tags": []
          },
          "execution_count": 32
        }
      ]
    },
    {
      "cell_type": "markdown",
      "metadata": {
        "id": "bw3h0QNTJ4jt"
      },
      "source": [
        "### Prediction"
      ]
    },
    {
      "cell_type": "code",
      "metadata": {
        "id": "qTwVIGCDJ2tS"
      },
      "source": [
        "from sklearn.metrics import mean_squared_error as mse"
      ],
      "execution_count": 56,
      "outputs": []
    },
    {
      "cell_type": "code",
      "metadata": {
        "id": "0kzL89a_MSpN"
      },
      "source": [
        "pred_ln = ln.predict(X_test)"
      ],
      "execution_count": 35,
      "outputs": []
    },
    {
      "cell_type": "code",
      "metadata": {
        "colab": {
          "base_uri": "https://localhost:8080/"
        },
        "id": "OEv4s7hlOC-3",
        "outputId": "23a5d045-040a-4952-8851-3f3f1f8805ea"
      },
      "source": [
        "rmse_ln = (mse(y_test,pred_ln))**0.5\r\n",
        "rmse_ln"
      ],
      "execution_count": 40,
      "outputs": [
        {
          "output_type": "execute_result",
          "data": {
            "text/plain": [
              "247.62619469046797"
            ]
          },
          "metadata": {
            "tags": []
          },
          "execution_count": 40
        }
      ]
    },
    {
      "cell_type": "code",
      "metadata": {
        "id": "fuUu43DzOEn6"
      },
      "source": [
        "pred_kn = kn.predict(X_test)"
      ],
      "execution_count": 39,
      "outputs": []
    },
    {
      "cell_type": "code",
      "metadata": {
        "colab": {
          "base_uri": "https://localhost:8080/"
        },
        "id": "YZIFHM5iO2Vy",
        "outputId": "50a6bb89-fc55-49e8-aea6-3448f4ade907"
      },
      "source": [
        "rmse_kn = (mse(y_test,pred_kn))**0.5\r\n",
        "rmse_kn"
      ],
      "execution_count": 44,
      "outputs": [
        {
          "output_type": "execute_result",
          "data": {
            "text/plain": [
              "211.61910995221984"
            ]
          },
          "metadata": {
            "tags": []
          },
          "execution_count": 44
        }
      ]
    },
    {
      "cell_type": "code",
      "metadata": {
        "id": "0e5cCp2IPFfk"
      },
      "source": [
        "pred_rf = rf.predict(X_test)"
      ],
      "execution_count": 42,
      "outputs": []
    },
    {
      "cell_type": "code",
      "metadata": {
        "colab": {
          "base_uri": "https://localhost:8080/"
        },
        "id": "Q3R_xoIyPL_t",
        "outputId": "f4cb6f58-19e9-4c01-d9c1-3630f0c40d7f"
      },
      "source": [
        "rmse_rf = (mse(y_test,pred_rf))**0.5\r\n",
        "rmse_rf"
      ],
      "execution_count": 45,
      "outputs": [
        {
          "output_type": "execute_result",
          "data": {
            "text/plain": [
              "209.89148167035162"
            ]
          },
          "metadata": {
            "tags": []
          },
          "execution_count": 45
        }
      ]
    },
    {
      "cell_type": "code",
      "metadata": {
        "id": "onvzjyhmPT35"
      },
      "source": [
        "pred = pd.DataFrame(data=[rmse_rf,rmse_ln,rmse_kn],index=['Random_Forest','Logistic_Regression','KNN'],columns=['RMSE_score'])"
      ],
      "execution_count": 54,
      "outputs": []
    },
    {
      "cell_type": "code",
      "metadata": {
        "colab": {
          "base_uri": "https://localhost:8080/",
          "height": 142
        },
        "id": "vZcTDlKmPobc",
        "outputId": "3ea7d8c6-8ddd-4d09-ab43-f328b31d013f"
      },
      "source": [
        "pred"
      ],
      "execution_count": 55,
      "outputs": [
        {
          "output_type": "execute_result",
          "data": {
            "text/html": [
              "<div>\n",
              "<style scoped>\n",
              "    .dataframe tbody tr th:only-of-type {\n",
              "        vertical-align: middle;\n",
              "    }\n",
              "\n",
              "    .dataframe tbody tr th {\n",
              "        vertical-align: top;\n",
              "    }\n",
              "\n",
              "    .dataframe thead th {\n",
              "        text-align: right;\n",
              "    }\n",
              "</style>\n",
              "<table border=\"1\" class=\"dataframe\">\n",
              "  <thead>\n",
              "    <tr style=\"text-align: right;\">\n",
              "      <th></th>\n",
              "      <th>RMSE_score</th>\n",
              "    </tr>\n",
              "  </thead>\n",
              "  <tbody>\n",
              "    <tr>\n",
              "      <th>Random_Forest</th>\n",
              "      <td>209.891482</td>\n",
              "    </tr>\n",
              "    <tr>\n",
              "      <th>Logistic_Regression</th>\n",
              "      <td>247.626195</td>\n",
              "    </tr>\n",
              "    <tr>\n",
              "      <th>KNN</th>\n",
              "      <td>211.619110</td>\n",
              "    </tr>\n",
              "  </tbody>\n",
              "</table>\n",
              "</div>"
            ],
            "text/plain": [
              "                     RMSE_score\n",
              "Random_Forest        209.891482\n",
              "Logistic_Regression  247.626195\n",
              "KNN                  211.619110"
            ]
          },
          "metadata": {
            "tags": []
          },
          "execution_count": 55
        }
      ]
    },
    {
      "cell_type": "code",
      "metadata": {
        "id": "svkArwaOPpjU"
      },
      "source": [
        "#So we see thar rf model performs better and so we use rf model for further prediction"
      ],
      "execution_count": null,
      "outputs": []
    },
    {
      "cell_type": "code",
      "metadata": {
        "id": "KXabkc3iRNK7"
      },
      "source": [
        ""
      ],
      "execution_count": null,
      "outputs": []
    },
    {
      "cell_type": "markdown",
      "metadata": {
        "id": "dCdUl15bRNt1"
      },
      "source": [
        "### Pickle"
      ]
    },
    {
      "cell_type": "code",
      "metadata": {
        "id": "LgEXEKUJRQdC"
      },
      "source": [
        "import pickle"
      ],
      "execution_count": 59,
      "outputs": []
    },
    {
      "cell_type": "code",
      "metadata": {
        "id": "Ujs59vTiRjZ_"
      },
      "source": [
        "pk = open('model.pkl','wb')\r\n",
        "pickle.dump(ln,pk)\r\n",
        "pickle.dump(tf, pk)"
      ],
      "execution_count": 65,
      "outputs": []
    },
    {
      "cell_type": "code",
      "metadata": {
        "id": "GbjlWpubTuez"
      },
      "source": [
        ""
      ],
      "execution_count": null,
      "outputs": []
    }
  ]
}